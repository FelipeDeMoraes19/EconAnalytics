{
 "cells": [
  {
   "cell_type": "code",
   "execution_count": null,
   "metadata": {},
   "outputs": [],
   "source": [
    "import pandas as pd\n",
    "import matplotlib.pyplot as plt\n",
    "\n",
    "gdp_data = pd.read_csv('../data/raw/gdp_data.csv')\n",
    "inflation_data = pd.read_csv('../data/raw/inflation_data.csv')\n",
    "unemployment_data = pd.read_csv('../data/raw/unemployment_data.csv')\n",
    "\n",
    "gdp_data.plot(x='date', y='value', title='GDP Over Time')\n",
    "plt.show()\n",
    "\n",
    "inflation_data.plot(x='date', y='value', title='Inflation Over Time')\n",
    "plt.show()\n",
    "\n",
    "unemployment_data.plot(x='date', y='value', title='Unemployment Rate Over Time')\n",
    "plt.show()\n"
   ]
  }
 ],
 "metadata": {
  "language_info": {
   "name": "python"
  }
 },
 "nbformat": 4,
 "nbformat_minor": 2
}
